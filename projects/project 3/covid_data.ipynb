{
 "cells": [
  {
   "cell_type": "code",
   "execution_count": 1,
   "metadata": {},
   "outputs": [],
   "source": [
    "import pandas as pd\n",
    "import numpy as np\n",
    "import matplotlib.pyplot as plt\n",
    "import requests\n",
    "import json\n",
    "covid_data = pd.read_csv('data/covid.csv')\n",
    "covid_data['RegisteredDate'] = pd.to_datetime(covid_data['RegisteredDate'], format='%Y-%m-%d')"
   ]
  },
  {
   "cell_type": "code",
   "execution_count": 16,
   "metadata": {},
   "outputs": [
    {
     "data": {
      "text/html": [
       "<div>\n",
       "<style scoped>\n",
       "    .dataframe tbody tr th:only-of-type {\n",
       "        vertical-align: middle;\n",
       "    }\n",
       "\n",
       "    .dataframe tbody tr th {\n",
       "        vertical-align: top;\n",
       "    }\n",
       "\n",
       "    .dataframe thead th {\n",
       "        text-align: right;\n",
       "    }\n",
       "</style>\n",
       "<table border=\"1\" class=\"dataframe\">\n",
       "  <thead>\n",
       "    <tr style=\"text-align: right;\">\n",
       "      <th></th>\n",
       "      <th>Unnamed: 0</th>\n",
       "      <th>Country</th>\n",
       "      <th>RegisteredDate</th>\n",
       "      <th>Confirmed</th>\n",
       "      <th>Deaths</th>\n",
       "      <th>Recovered</th>\n",
       "      <th>Active</th>\n",
       "      <th>ConfirmedIncrease%</th>\n",
       "      <th>ConfirmedIncrease</th>\n",
       "      <th>RecoveredIncrease%</th>\n",
       "      <th>RecoveredIncrease</th>\n",
       "      <th>ActiveIncrease%</th>\n",
       "      <th>ActiveIncrease</th>\n",
       "      <th>DeathsIncrease%</th>\n",
       "      <th>DeathsIncrease</th>\n",
       "      <th>DaysSinceFirst</th>\n",
       "    </tr>\n",
       "  </thead>\n",
       "  <tbody>\n",
       "    <tr>\n",
       "      <th>1900</th>\n",
       "      <td>1900</td>\n",
       "      <td>Italy</td>\n",
       "      <td>2020-03-13</td>\n",
       "      <td>17660.0</td>\n",
       "      <td>1266.0</td>\n",
       "      <td>1439.0</td>\n",
       "      <td>14955.0</td>\n",
       "      <td>34.51</td>\n",
       "      <td>5198.0</td>\n",
       "      <td>31.72</td>\n",
       "      <td>394.0</td>\n",
       "      <td>34.17</td>\n",
       "      <td>4365.0</td>\n",
       "      <td>41.95</td>\n",
       "      <td>439.0</td>\n",
       "      <td>42</td>\n",
       "    </tr>\n",
       "  </tbody>\n",
       "</table>\n",
       "</div>"
      ],
      "text/plain": [
       "      Unnamed: 0 Country RegisteredDate  Confirmed  Deaths  Recovered  \\\n",
       "1900        1900   Italy     2020-03-13    17660.0  1266.0     1439.0   \n",
       "\n",
       "       Active  ConfirmedIncrease%  ConfirmedIncrease  RecoveredIncrease%  \\\n",
       "1900  14955.0               34.51             5198.0               31.72   \n",
       "\n",
       "      RecoveredIncrease  ActiveIncrease%  ActiveIncrease  DeathsIncrease%  \\\n",
       "1900              394.0            34.17          4365.0            41.95   \n",
       "\n",
       "      DeathsIncrease  DaysSinceFirst  \n",
       "1900           439.0              42  "
      ]
     },
     "execution_count": 16,
     "metadata": {},
     "output_type": "execute_result"
    }
   ],
   "source": [
    "covid_data[(covid_data['RegisteredDate'] == '2020-03-13') & (covid_data['Country'] == 'Italy')]"
   ]
  },
  {
   "cell_type": "code",
   "execution_count": null,
   "metadata": {},
   "outputs": [],
   "source": []
  }
 ],
 "metadata": {
  "kernelspec": {
   "display_name": "Python 3",
   "language": "python",
   "name": "python3"
  },
  "language_info": {
   "codemirror_mode": {
    "name": "ipython",
    "version": 3
   },
   "file_extension": ".py",
   "mimetype": "text/x-python",
   "name": "python",
   "nbconvert_exporter": "python",
   "pygments_lexer": "ipython3",
   "version": "3.8.2"
  }
 },
 "nbformat": 4,
 "nbformat_minor": 4
}
