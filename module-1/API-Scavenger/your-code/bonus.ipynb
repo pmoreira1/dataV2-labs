{
 "cells": [
  {
   "cell_type": "markdown",
   "metadata": {},
   "source": [
    "# Additional Challenge for the Nerds"
   ]
  },
  {
   "cell_type": "markdown",
   "metadata": {},
   "source": [
    "#### Create a new file called test.txt.\n",
    "\n",
    "* Create a new repository.\n",
    "* Call the API endpoint to create a new file in the new repository.\n",
    "\n",
    "Include the command you used in the terminal to call the API endpoint and create the file:"
   ]
  },
  {
   "cell_type": "code",
   "execution_count": 1,
   "metadata": {},
   "outputs": [
    {
     "name": "stdout",
     "output_type": "stream",
     "text": [
      "<Response [201]>\n",
      "<Response [201]>\n"
     ]
    }
   ],
   "source": [
    "# your command here\n",
    "import requests\n",
    "import json\n",
    "\n",
    "GIT_API_KEY = ''\n",
    "\n",
    "def create_repository(repo_name):\n",
    "    headers = {\"Authorization\": \"token \" + GIT_API_KEY }\n",
    "    url = \"https://api.github.com/user/repos\"\n",
    "    repo_data = {\n",
    "          \"name\" : repo_name,\n",
    "          \"description\" : \"This is your first API created repository\",\n",
    "        }\n",
    "    response = requests.post(url, data= json.dumps(repo_data), headers=headers)\n",
    "    return response\n",
    "\n",
    "\n",
    "def create_file(repo,filename):\n",
    "    headers = {\"Authorization\": \"token \" + GIT_API_KEY }\n",
    "    url = \"https://api.github.com/repos/pmoreira1/\"+ repo + \"/contents/\"+ filename\n",
    "    data = '{\"message\": \"Initial Commit\",\"content\": \"bXkgbmV3IGZpbGUgY29udGVudHM=\"}'\n",
    "    response = requests.put(url, data = data,headers=headers)\n",
    "    return response\n",
    "\n",
    "\n",
    "print(create_repository(\"Test-Repository\"))\n",
    "print(create_file('Test-Repository','testfile.txt'))"
   ]
  },
  {
   "cell_type": "code",
   "execution_count": null,
   "metadata": {},
   "outputs": [],
   "source": []
  }
 ],
 "metadata": {
  "kernelspec": {
   "display_name": "Python 3",
   "language": "python",
   "name": "python3"
  },
  "language_info": {
   "codemirror_mode": {
    "name": "ipython",
    "version": 3
   },
   "file_extension": ".py",
   "mimetype": "text/x-python",
   "name": "python",
   "nbconvert_exporter": "python",
   "pygments_lexer": "ipython3",
   "version": "3.6.9"
  }
 },
 "nbformat": 4,
 "nbformat_minor": 2
}
