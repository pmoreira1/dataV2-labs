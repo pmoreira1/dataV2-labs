{
 "cells": [
  {
   "cell_type": "markdown",
   "metadata": {},
   "source": [
    "# API Scavenger Game\n",
    "\n",
    "## Challenge 1: Fork Languages\n",
    "\n",
    "You will find out how many programming languages are used among all the forks created from the main lab repo of your bootcamp."
   ]
  },
  {
   "cell_type": "code",
   "execution_count": 1,
   "metadata": {},
   "outputs": [],
   "source": [
    "# import libraries here\n",
    "import requests\n",
    "import json\n",
    "\n",
    "GIT_API_KEY = ''\n",
    "\n",
    "def git_request(url):\n",
    "    result = []\n",
    "    headers = {\"Authorization\": \"token \" + GIT_API_KEY}\n",
    "    params = {'page': 1, 'per_page' : '30'}\n",
    "    response = requests.get(url, headers=headers,params=params)\n",
    "    result.append(response.json())\n",
    "    links = response.links\n",
    "    while 'next' in links:\n",
    "        response = requests.get(links['next']['url'], headers=headers)\n",
    "        links = response.links\n",
    "        result.append(response.json())\n",
    "    finaldata = [p for r in result for p in r]\n",
    "    \n",
    "    return finaldata"
   ]
  },
  {
   "cell_type": "markdown",
   "metadata": {},
   "source": [
    "Assuming the main lab repo is ironhack-datalabs/madrid-oct-2018, you will:\n",
    "\n",
    "#### 1. Obtain the full list of forks created from the main lab repo via Github API."
   ]
  },
  {
   "cell_type": "markdown",
   "metadata": {},
   "source": [
    "To list forks, we can use the GET method. As explained in the GitHub API documentation, we need to make the request to: GET /repos/:owner/:repo/forks."
   ]
  },
  {
   "cell_type": "code",
   "execution_count": 2,
   "metadata": {},
   "outputs": [
    {
     "name": "stdout",
     "output_type": "stream",
     "text": [
      "{'id': 242350251, 'node_id': 'MDEwOlJlcG9zaXRvcnkyNDIzNTAyNTE=', 'name': 'dataV2-labs', 'full_name': 'ta-data-lis/dataV2-labs', 'private': False, 'owner': {'login': 'ta-data-lis', 'id': 54109907, 'node_id': 'MDQ6VXNlcjU0MTA5OTA3', 'avatar_url': 'https://avatars0.githubusercontent.com/u/54109907?v=4', 'gravatar_id': '', 'url': 'https://api.github.com/users/ta-data-lis', 'html_url': 'https://github.com/ta-data-lis', 'followers_url': 'https://api.github.com/users/ta-data-lis/followers', 'following_url': 'https://api.github.com/users/ta-data-lis/following{/other_user}', 'gists_url': 'https://api.github.com/users/ta-data-lis/gists{/gist_id}', 'starred_url': 'https://api.github.com/users/ta-data-lis/starred{/owner}{/repo}', 'subscriptions_url': 'https://api.github.com/users/ta-data-lis/subscriptions', 'organizations_url': 'https://api.github.com/users/ta-data-lis/orgs', 'repos_url': 'https://api.github.com/users/ta-data-lis/repos', 'events_url': 'https://api.github.com/users/ta-data-lis/events{/privacy}', 'received_events_url': 'https://api.github.com/users/ta-data-lis/received_events', 'type': 'User', 'site_admin': False}, 'html_url': 'https://github.com/ta-data-lis/dataV2-labs', 'description': None, 'fork': True, 'url': 'https://api.github.com/repos/ta-data-lis/dataV2-labs', 'forks_url': 'https://api.github.com/repos/ta-data-lis/dataV2-labs/forks', 'keys_url': 'https://api.github.com/repos/ta-data-lis/dataV2-labs/keys{/key_id}', 'collaborators_url': 'https://api.github.com/repos/ta-data-lis/dataV2-labs/collaborators{/collaborator}', 'teams_url': 'https://api.github.com/repos/ta-data-lis/dataV2-labs/teams', 'hooks_url': 'https://api.github.com/repos/ta-data-lis/dataV2-labs/hooks', 'issue_events_url': 'https://api.github.com/repos/ta-data-lis/dataV2-labs/issues/events{/number}', 'events_url': 'https://api.github.com/repos/ta-data-lis/dataV2-labs/events', 'assignees_url': 'https://api.github.com/repos/ta-data-lis/dataV2-labs/assignees{/user}', 'branches_url': 'https://api.github.com/repos/ta-data-lis/dataV2-labs/branches{/branch}', 'tags_url': 'https://api.github.com/repos/ta-data-lis/dataV2-labs/tags', 'blobs_url': 'https://api.github.com/repos/ta-data-lis/dataV2-labs/git/blobs{/sha}', 'git_tags_url': 'https://api.github.com/repos/ta-data-lis/dataV2-labs/git/tags{/sha}', 'git_refs_url': 'https://api.github.com/repos/ta-data-lis/dataV2-labs/git/refs{/sha}', 'trees_url': 'https://api.github.com/repos/ta-data-lis/dataV2-labs/git/trees{/sha}', 'statuses_url': 'https://api.github.com/repos/ta-data-lis/dataV2-labs/statuses/{sha}', 'languages_url': 'https://api.github.com/repos/ta-data-lis/dataV2-labs/languages', 'stargazers_url': 'https://api.github.com/repos/ta-data-lis/dataV2-labs/stargazers', 'contributors_url': 'https://api.github.com/repos/ta-data-lis/dataV2-labs/contributors', 'subscribers_url': 'https://api.github.com/repos/ta-data-lis/dataV2-labs/subscribers', 'subscription_url': 'https://api.github.com/repos/ta-data-lis/dataV2-labs/subscription', 'commits_url': 'https://api.github.com/repos/ta-data-lis/dataV2-labs/commits{/sha}', 'git_commits_url': 'https://api.github.com/repos/ta-data-lis/dataV2-labs/git/commits{/sha}', 'comments_url': 'https://api.github.com/repos/ta-data-lis/dataV2-labs/comments{/number}', 'issue_comment_url': 'https://api.github.com/repos/ta-data-lis/dataV2-labs/issues/comments{/number}', 'contents_url': 'https://api.github.com/repos/ta-data-lis/dataV2-labs/contents/{+path}', 'compare_url': 'https://api.github.com/repos/ta-data-lis/dataV2-labs/compare/{base}...{head}', 'merges_url': 'https://api.github.com/repos/ta-data-lis/dataV2-labs/merges', 'archive_url': 'https://api.github.com/repos/ta-data-lis/dataV2-labs/{archive_format}{/ref}', 'downloads_url': 'https://api.github.com/repos/ta-data-lis/dataV2-labs/downloads', 'issues_url': 'https://api.github.com/repos/ta-data-lis/dataV2-labs/issues{/number}', 'pulls_url': 'https://api.github.com/repos/ta-data-lis/dataV2-labs/pulls{/number}', 'milestones_url': 'https://api.github.com/repos/ta-data-lis/dataV2-labs/milestones{/number}', 'notifications_url': 'https://api.github.com/repos/ta-data-lis/dataV2-labs/notifications{?since,all,participating}', 'labels_url': 'https://api.github.com/repos/ta-data-lis/dataV2-labs/labels{/name}', 'releases_url': 'https://api.github.com/repos/ta-data-lis/dataV2-labs/releases{/id}', 'deployments_url': 'https://api.github.com/repos/ta-data-lis/dataV2-labs/deployments', 'created_at': '2020-02-22T13:55:03Z', 'updated_at': '2020-02-22T13:55:04Z', 'pushed_at': '2020-02-21T16:27:14Z', 'git_url': 'git://github.com/ta-data-lis/dataV2-labs.git', 'ssh_url': 'git@github.com:ta-data-lis/dataV2-labs.git', 'clone_url': 'https://github.com/ta-data-lis/dataV2-labs.git', 'svn_url': 'https://github.com/ta-data-lis/dataV2-labs', 'homepage': None, 'size': 31427, 'stargazers_count': 0, 'watchers_count': 0, 'language': None, 'has_issues': False, 'has_projects': True, 'has_downloads': True, 'has_wiki': True, 'has_pages': False, 'forks_count': 0, 'mirror_url': None, 'archived': False, 'disabled': False, 'open_issues_count': 0, 'license': None, 'forks': 0, 'open_issues': 0, 'watchers': 0, 'default_branch': 'master', 'permissions': {'admin': False, 'push': False, 'pull': True}}\n"
     ]
    }
   ],
   "source": [
    "# your code here\n",
    "import pandas as pd\n",
    "forks = git_request('https://api.github.com/repos/ironhack-datalabs/dataV2-labs/forks')\n",
    "# Printing only first result, to 'save' screen space\n",
    "print(forks[0])"
   ]
  },
  {
   "cell_type": "markdown",
   "metadata": {},
   "source": [
    "#### 2. Loop the JSON response to find out the language attribute of each fork. Use an array to store the language attributes of each fork.\n",
    "Hint: Each language should appear only once in your array.\n",
    "Print the language array. It should be something like: [\"Python\", \"Jupyter Notebook\", \"HTML\"]"
   ]
  },
  {
   "cell_type": "code",
   "execution_count": 4,
   "metadata": {},
   "outputs": [
    {
     "name": "stdout",
     "output_type": "stream",
     "text": [
      "{'owner': 'ta-data-lis', 'languages': ['Jupyter Notebook', 'HTML', 'Python']}\n"
     ]
    }
   ],
   "source": [
    "# your code here\n",
    "language_results = []\n",
    "for f in forks:\n",
    "    language_results.append({\n",
    "        'owner': f['owner']['login'],\n",
    "        'languages': git_request(f['languages_url'])\n",
    "    })\n",
    "# Printing only first result, to 'save' screen space\n",
    "print(language_results[0])"
   ]
  },
  {
   "cell_type": "code",
   "execution_count": 5,
   "metadata": {},
   "outputs": [
    {
     "name": "stdout",
     "output_type": "stream",
     "text": [
      "['TSQL', 'HTML', 'Rich Text Format', 'Jupyter Notebook', 'Python', 'AGS Script']\n"
     ]
    }
   ],
   "source": [
    "unique_languages = list(set([l for v in language_results for l in v['languages']]))\n",
    "print(unique_languages)"
   ]
  },
  {
   "cell_type": "markdown",
   "metadata": {},
   "source": [
    "## Challenge 2: Count Commits\n",
    "Count how many commits were made in the month of october of 2018.\n",
    "#### 1. Obtain all the commits made in October 2018 via API, which is a JSON array that contains multiple commit objects."
   ]
  },
  {
   "cell_type": "code",
   "execution_count": 6,
   "metadata": {},
   "outputs": [],
   "source": [
    "# your code here\n",
    "commits = git_request('https://api.github.com/repos/ironhack-datalabs/dataV2-labs/commits?since=2019-10-01T00:00:00Z&until=2019-10-31T23:59:59Z')"
   ]
  },
  {
   "cell_type": "markdown",
   "metadata": {},
   "source": [
    "#### 2. Count how many commit objects are contained in the array."
   ]
  },
  {
   "cell_type": "code",
   "execution_count": 7,
   "metadata": {},
   "outputs": [
    {
     "name": "stdout",
     "output_type": "stream",
     "text": [
      "There are 142 commits\n"
     ]
    }
   ],
   "source": [
    "# your code here\n",
    "print(\"There are\", len(commits), \"commits\")"
   ]
  },
  {
   "cell_type": "markdown",
   "metadata": {},
   "source": [
    "## Challenge 3: Hidden Cold Joke\n",
    "\n",
    "Using Python, call Github API to find out the cold joke contained in the 24 secret files in the following repo:\n",
    "\n",
    "https://github.com/ironhack-datalabs/scavenger\n",
    "\n",
    "The filenames of the secret files contain .scavengerhunt and they are scattered in different directories of this repo. The secret files are named from .0001.scavengerhunt to .0024.scavengerhunt. They are scattered randomly throughout this repo. You need to search for these files by calling the Github API, not searching the local files on your computer.\n",
    "\n",
    "#### 1. Find the secret files."
   ]
  },
  {
   "cell_type": "code",
   "execution_count": 8,
   "metadata": {},
   "outputs": [],
   "source": [
    "filelist = []\n",
    "files = git_request(\"https://api.github.com/repos/ironhack-datalabs/scavenger/contents\")\n",
    "for f in files:\n",
    "    if f['type'] == 'dir':\n",
    "        folder_details = git_request(f['url'])\n",
    "        if '.scavengerhunt' in folder_details[0]['name']:\n",
    "            filelist.append(folder_details[0]['url'])"
   ]
  },
  {
   "cell_type": "markdown",
   "metadata": {},
   "source": [
    "#### 2.  Sort the filenames ascendingly."
   ]
  },
  {
   "cell_type": "code",
   "execution_count": 9,
   "metadata": {},
   "outputs": [],
   "source": [
    "# your code here\n",
    "sorted_list = sorted(filelist, key=lambda x: x[-29:-25])"
   ]
  },
  {
   "cell_type": "markdown",
   "metadata": {},
   "source": [
    "#### 3. Read the content of each secret files into an array of strings.\n",
    "Since the response is encoded, you will need to send the following information in the header of your request:\n",
    "````python\n",
    "headers = {'Accept': 'application/vnd.github.v3.raw'}\n",
    "````"
   ]
  },
  {
   "cell_type": "code",
   "execution_count": 10,
   "metadata": {},
   "outputs": [],
   "source": [
    "# your code here\n",
    "# Created new function to allow enconding and return text instead of json (which would be invalid)\n",
    "def git_request_enconded(url):\n",
    "    result = []\n",
    "    headers = {\"Authorization\": \"token \" + GIT_API_KEY, 'Accept': 'application/vnd.github.v3.raw'}\n",
    "    params = {'page': 1, 'per_page' : '30'}\n",
    "    response = requests.get(url, headers=headers,params=params)\n",
    "    links = response.links\n",
    "    return response.text\n",
    "\n",
    "joke_encoded = []\n",
    "for l in sorted_list:\n",
    "    joke_encoded.append(git_request_enconded(l).strip())"
   ]
  },
  {
   "cell_type": "markdown",
   "metadata": {},
   "source": [
    "#### 4. Concatenate the strings in the array separating each two with a whitespace."
   ]
  },
  {
   "cell_type": "code",
   "execution_count": 11,
   "metadata": {},
   "outputs": [],
   "source": [
    "# your code here\n",
    "joke = ' '.join(joke_encoded)"
   ]
  },
  {
   "cell_type": "markdown",
   "metadata": {},
   "source": [
    "#### 5. Print out the joke."
   ]
  },
  {
   "cell_type": "code",
   "execution_count": 12,
   "metadata": {},
   "outputs": [
    {
     "name": "stdout",
     "output_type": "stream",
     "text": [
      "In data science, 80 percent of time spent is preparing data, percent of time is spent complaining about the need to prepare\n"
     ]
    }
   ],
   "source": [
    "# your code here\n",
    "print(joke)"
   ]
  }
 ],
 "metadata": {
  "kernelspec": {
   "display_name": "Python 3",
   "language": "python",
   "name": "python3"
  },
  "language_info": {
   "codemirror_mode": {
    "name": "ipython",
    "version": 3
   },
   "file_extension": ".py",
   "mimetype": "text/x-python",
   "name": "python",
   "nbconvert_exporter": "python",
   "pygments_lexer": "ipython3",
   "version": "3.6.9"
  }
 },
 "nbformat": 4,
 "nbformat_minor": 2
}
