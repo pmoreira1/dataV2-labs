{
 "cells": [
  {
   "cell_type": "markdown",
   "metadata": {},
   "source": [
    "In the cell below, create a Python function that wraps your previous solution for the Bag of Words lab.\n",
    "\n",
    "Requirements:\n",
    "\n",
    "1. Your function should accept the following parameters:\n",
    "    * `docs` [REQUIRED] - array of document paths.\n",
    "    * `stop_words` [OPTIONAL] - array of stop words. The default value is an empty array.\n",
    "\n",
    "1. Your function should return a Python object that contains the following:\n",
    "    * `bag_of_words` - array of strings of normalized unique words in the corpus.\n",
    "    * `term_freq` - array of the term-frequency vectors."
   ]
  },
  {
   "cell_type": "code",
   "execution_count": 13,
   "metadata": {},
   "outputs": [],
   "source": [
    "# Import required libraries\n",
    "import re\n",
    "# Define function\n",
    "def get_bow_from_docs(docs, stop_words=[]):\n",
    "    \n",
    "    # In the function, first define the variables you will use such as `corpus`, `bag_of_words`, and `term_freq`.\n",
    "    corpus = []\n",
    "    bag_of_words = []\n",
    "    term_freq = []\n",
    "    \n",
    "    \"\"\"\n",
    "    Loop `docs` and read the content of each doc into a string in `corpus`.\n",
    "    Remember to convert the doc content to lowercases and remove punctuation.\n",
    "    \"\"\"\n",
    "    corpus = [re.sub('\\W','',s).lower() for d in docs for s in d.split()]\n",
    "    \n",
    "    \"\"\"\n",
    "    Loop `corpus`. Append the terms in each doc into the `bag_of_words` array. The terms in `bag_of_words` \n",
    "    should be unique which means before adding each term you need to check if it's already added to the array.\n",
    "    In addition, check if each term is in the `stop_words` array. Only append the term to `bag_of_words`\n",
    "    if it is not a stop word.\n",
    "    \"\"\"    \n",
    "    bag_of_words = list(set(corpus) - set(stop_words))\n",
    "    \n",
    "    \"\"\"\n",
    "    Loop `corpus` again. For each doc string, count the number of occurrences of each term in `bag_of_words`. \n",
    "    Create an array for each doc's term frequency and append it to `term_freq`.\n",
    "    \"\"\"\n",
    "    for d in docs:\n",
    "        clean_words = [re.sub('\\W','',s).lower() for s in d.split()]\n",
    "        word_count = []\n",
    "        for w in bag_of_words:\n",
    "            if w in clean_words:\n",
    "                 word_count.append(1)\n",
    "            else:\n",
    "                 word_count.append(0)\n",
    "        term_freq.append(word_count)\n",
    "    \n",
    "    # Now return your output as an object\n",
    "    return {\n",
    "        \"bag_of_words\": bag_of_words,\n",
    "        \"term_freq\": term_freq\n",
    "    }\n",
    "    "
   ]
  },
  {
   "cell_type": "markdown",
   "metadata": {},
   "source": [
    "Test your function without stop words. You should see the output like below:\n",
    "\n",
    "```{'bag_of_words': ['ironhack', 'is', 'cool', 'i', 'love', 'am', 'a', 'student', 'at'], 'term_freq': [[1, 1, 1, 0, 0, 0, 0, 0, 0], [1, 0, 0, 1, 1, 0, 0, 0, 0], [1, 0, 0, 1, 0, 1, 1, 1, 1]]}```"
   ]
  },
  {
   "cell_type": "code",
   "execution_count": 14,
   "metadata": {},
   "outputs": [
    {
     "name": "stdout",
     "output_type": "stream",
     "text": [
      "{'bag_of_words': ['is', 'love', 'student', 'am', 'at', 'ironhack', 'i', 'cool', 'a'], 'term_freq': [[1, 0, 0, 0, 0, 1, 0, 1, 0], [0, 1, 0, 0, 0, 1, 1, 0, 0], [0, 0, 1, 1, 1, 1, 1, 0, 1]]}\n"
     ]
    }
   ],
   "source": [
    "# Define doc paths array\n",
    "doc1 = 'Ironhack is cool.'\n",
    "doc2 = 'I love Ironhack.'\n",
    "doc3 = 'I am a student at Ironhack.'\n",
    "docs = [doc1,doc2,doc3]\n",
    "\n",
    "# Obtain BoW from your function\n",
    "bow = get_bow_from_docs(docs)\n",
    "\n",
    "# Print BoW\n",
    "print(bow)"
   ]
  },
  {
   "cell_type": "markdown",
   "metadata": {},
   "source": [
    "If your attempt above is successful, nice work done!\n",
    "\n",
    "Now test your function again with the stop words. In the previous lab we defined the stop words in a large array. In this lab, we'll import the stop words from Scikit-Learn."
   ]
  },
  {
   "cell_type": "code",
   "execution_count": 15,
   "metadata": {},
   "outputs": [
    {
     "name": "stdout",
     "output_type": "stream",
     "text": [
      "frozenset({'anything', 'one', 'among', 'other', 'perhaps', 'while', 'keep', 'wherein', 'fire', 'whereupon', 'with', 'everyone', 'be', 'first', 'here', 'i', 'detail', 'next', 'both', 'he', 'only', 'than', 'every', 'mine', 'name', 'nevertheless', 'until', 'beside', 'whence', 'whereafter', 'who', 'am', 'either', 'has', 'thus', 'get', 'more', 'last', 'de', 'eight', 'some', 'thereupon', 'as', 'never', 'system', 'without', 'fill', 'hereupon', 'along', 'however', 'for', 'already', 'toward', 'call', 'not', 'own', 'whither', 'seemed', 'yours', 'against', 'back', 'cry', 'besides', 'if', 'neither', 'nothing', 'through', 'but', 'except', 'and', 'noone', 'mill', 'etc', 'enough', 'moreover', 'was', 'nine', 'where', 'whether', 'to', 'can', 'her', 'therefore', 'found', 'formerly', 'ie', 'herein', 'ltd', 'still', 'done', 'another', 'move', 'will', 'may', 'by', 'hundred', 'inc', 'interest', 'latterly', 'together', 'my', 'before', 'side', 'each', 'twelve', 'otherwise', 'become', 'any', 'hereafter', 'via', 'towards', 'fifteen', 'very', 'anyone', 'above', 'put', 'his', 'rather', 'mostly', 'it', 'hasnt', 'seems', 'ourselves', 'them', 'since', 'too', 'how', 'whereby', 'at', 'you', 'several', 'on', 'always', 'cant', 'latter', 'about', 'beforehand', 'empty', 'hereby', 'part', 'somewhere', 'must', 'are', 'anywhere', 'is', 'seem', 'full', 'sincere', 'somehow', 'the', 'down', 'per', 'upon', 'whereas', 'yet', 'yourselves', 'becoming', 'of', 'throughout', 'alone', 'would', 'from', 'nowhere', 'seeming', 'four', 'nor', 'though', 'five', 'ours', 'all', 'also', 'further', 'him', 'least', 'what', 'within', 'myself', 'do', 'whole', 'show', 'after', 'afterwards', 'yourself', 'see', 'whatever', 'there', 'ever', 'something', 'cannot', 'due', 'co', 'herself', 'sixty', 'therein', 'himself', 'whose', 'such', 'almost', 'becomes', 're', 'indeed', 'being', 'go', 'thereafter', 'this', 'its', 'under', 'us', 'amongst', 'namely', 'why', 'became', 'six', 'take', 'me', 'else', 'sometime', 'now', 'others', 'many', 'much', 'because', 'everything', 'whom', 'which', 'thru', 'less', 'when', 'although', 'around', 'that', 'describe', 'bill', 'below', 'itself', 'same', 'anyhow', 'bottom', 'your', 'whoever', 'front', 'couldnt', 'everywhere', 'hers', 'please', 'top', 'up', 'twenty', 'wherever', 'again', 'during', 'few', 'nobody', 'should', 'forty', 'no', 'had', 'she', 'behind', 'whenever', 'or', 'thick', 'sometimes', 'those', 'an', 'give', 'often', 'amount', 'between', 'former', 'once', 'we', 'none', 'were', 'their', 'well', 'eleven', 'a', 'eg', 'most', 'could', 'might', 'someone', 'across', 'they', 'thin', 'then', 'amoungst', 'been', 'even', 'find', 'two', 'con', 'fifty', 'over', 'in', 'thence', 'ten', 'these', 'third', 'have', 'off', 'onto', 'un', 'anyway', 'themselves', 'thereby', 'three', 'so', 'serious', 'beyond', 'hence', 'meanwhile', 'elsewhere', 'out', 'our', 'into', 'made'})\n"
     ]
    }
   ],
   "source": [
    "from sklearn.feature_extraction import stop_words\n",
    "print(stop_words.ENGLISH_STOP_WORDS)"
   ]
  },
  {
   "cell_type": "markdown",
   "metadata": {},
   "source": [
    "You should have seen a large list of words that looks like:\n",
    "\n",
    "```frozenset({'across', 'mine', 'cannot', ...})```\n",
    "\n",
    "`frozenset` is a type of Python object that is immutable. In this lab you can use it just like an array without conversion."
   ]
  },
  {
   "cell_type": "markdown",
   "metadata": {},
   "source": [
    "Next, test your function with supplying `stop_words.ENGLISH_STOP_WORDS` as the second parameter."
   ]
  },
  {
   "cell_type": "code",
   "execution_count": 18,
   "metadata": {},
   "outputs": [
    {
     "name": "stdout",
     "output_type": "stream",
     "text": [
      "{'bag_of_words': ['cool', 'love', 'student', 'ironhack'], 'term_freq': [[1, 0, 0, 1], [0, 1, 0, 1], [0, 0, 1, 1]]}\n"
     ]
    }
   ],
   "source": [
    "bow = get_bow_from_docs(docs, stop_words.ENGLISH_STOP_WORDS)\n",
    "\n",
    "print(bow)"
   ]
  },
  {
   "cell_type": "markdown",
   "metadata": {},
   "source": [
    "You should have seen:\n",
    "\n",
    "```{'bag_of_words': ['ironhack', 'cool', 'love', 'student'], 'term_freq': [[1, 1, 0, 0], [1, 0, 1, 0], [1, 0, 0, 1]]}```"
   ]
  },
  {
   "cell_type": "code",
   "execution_count": null,
   "metadata": {},
   "outputs": [],
   "source": []
  }
 ],
 "metadata": {
  "kernelspec": {
   "display_name": "Python 3",
   "language": "python",
   "name": "python3"
  },
  "language_info": {
   "codemirror_mode": {
    "name": "ipython",
    "version": 3
   },
   "file_extension": ".py",
   "mimetype": "text/x-python",
   "name": "python",
   "nbconvert_exporter": "python",
   "pygments_lexer": "ipython3",
   "version": "3.6.9"
  }
 },
 "nbformat": 4,
 "nbformat_minor": 2
}
