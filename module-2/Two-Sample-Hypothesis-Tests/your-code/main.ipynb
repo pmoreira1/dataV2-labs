{
 "cells": [
  {
   "cell_type": "markdown",
   "metadata": {},
   "source": [
    "# Before your start:\n",
    "- Read the README.md file\n",
    "- Comment as much as you can and use the resources (README.md file)\n",
    "- Happy learning!"
   ]
  },
  {
   "cell_type": "code",
   "execution_count": 2,
   "metadata": {},
   "outputs": [],
   "source": [
    "# import numpy and pandas\n",
    "import pandas as pd\n",
    "import numpy as np\n",
    "from scipy.stats import ttest_ind"
   ]
  },
  {
   "cell_type": "markdown",
   "metadata": {},
   "source": [
    "# Challenge 1 - Independent Sample T-tests\n",
    "\n",
    "In this challenge, we will be using the Pokemon dataset. Before applying statistical methods to this data, let's first examine the data.\n",
    "\n",
    "To load the data, run the code below."
   ]
  },
  {
   "cell_type": "code",
   "execution_count": 3,
   "metadata": {},
   "outputs": [],
   "source": [
    "# Run this code:\n",
    "pokemon = pd.read_csv('../pokemon.csv')"
   ]
  },
  {
   "cell_type": "markdown",
   "metadata": {},
   "source": [
    "Let's start off by looking at the `head` function in the cell below."
   ]
  },
  {
   "cell_type": "code",
   "execution_count": 4,
   "metadata": {},
   "outputs": [
    {
     "data": {
      "text/html": [
       "<div>\n",
       "<style scoped>\n",
       "    .dataframe tbody tr th:only-of-type {\n",
       "        vertical-align: middle;\n",
       "    }\n",
       "\n",
       "    .dataframe tbody tr th {\n",
       "        vertical-align: top;\n",
       "    }\n",
       "\n",
       "    .dataframe thead th {\n",
       "        text-align: right;\n",
       "    }\n",
       "</style>\n",
       "<table border=\"1\" class=\"dataframe\">\n",
       "  <thead>\n",
       "    <tr style=\"text-align: right;\">\n",
       "      <th></th>\n",
       "      <th>#</th>\n",
       "      <th>Name</th>\n",
       "      <th>Type 1</th>\n",
       "      <th>Type 2</th>\n",
       "      <th>Total</th>\n",
       "      <th>HP</th>\n",
       "      <th>Attack</th>\n",
       "      <th>Defense</th>\n",
       "      <th>Sp. Atk</th>\n",
       "      <th>Sp. Def</th>\n",
       "      <th>Speed</th>\n",
       "      <th>Generation</th>\n",
       "      <th>Legendary</th>\n",
       "    </tr>\n",
       "  </thead>\n",
       "  <tbody>\n",
       "    <tr>\n",
       "      <th>0</th>\n",
       "      <td>1</td>\n",
       "      <td>Bulbasaur</td>\n",
       "      <td>Grass</td>\n",
       "      <td>Poison</td>\n",
       "      <td>318</td>\n",
       "      <td>45</td>\n",
       "      <td>49</td>\n",
       "      <td>49</td>\n",
       "      <td>65</td>\n",
       "      <td>65</td>\n",
       "      <td>45</td>\n",
       "      <td>1</td>\n",
       "      <td>False</td>\n",
       "    </tr>\n",
       "    <tr>\n",
       "      <th>1</th>\n",
       "      <td>2</td>\n",
       "      <td>Ivysaur</td>\n",
       "      <td>Grass</td>\n",
       "      <td>Poison</td>\n",
       "      <td>405</td>\n",
       "      <td>60</td>\n",
       "      <td>62</td>\n",
       "      <td>63</td>\n",
       "      <td>80</td>\n",
       "      <td>80</td>\n",
       "      <td>60</td>\n",
       "      <td>1</td>\n",
       "      <td>False</td>\n",
       "    </tr>\n",
       "    <tr>\n",
       "      <th>2</th>\n",
       "      <td>3</td>\n",
       "      <td>Venusaur</td>\n",
       "      <td>Grass</td>\n",
       "      <td>Poison</td>\n",
       "      <td>525</td>\n",
       "      <td>80</td>\n",
       "      <td>82</td>\n",
       "      <td>83</td>\n",
       "      <td>100</td>\n",
       "      <td>100</td>\n",
       "      <td>80</td>\n",
       "      <td>1</td>\n",
       "      <td>False</td>\n",
       "    </tr>\n",
       "    <tr>\n",
       "      <th>3</th>\n",
       "      <td>3</td>\n",
       "      <td>VenusaurMega Venusaur</td>\n",
       "      <td>Grass</td>\n",
       "      <td>Poison</td>\n",
       "      <td>625</td>\n",
       "      <td>80</td>\n",
       "      <td>100</td>\n",
       "      <td>123</td>\n",
       "      <td>122</td>\n",
       "      <td>120</td>\n",
       "      <td>80</td>\n",
       "      <td>1</td>\n",
       "      <td>False</td>\n",
       "    </tr>\n",
       "    <tr>\n",
       "      <th>4</th>\n",
       "      <td>4</td>\n",
       "      <td>Charmander</td>\n",
       "      <td>Fire</td>\n",
       "      <td>NaN</td>\n",
       "      <td>309</td>\n",
       "      <td>39</td>\n",
       "      <td>52</td>\n",
       "      <td>43</td>\n",
       "      <td>60</td>\n",
       "      <td>50</td>\n",
       "      <td>65</td>\n",
       "      <td>1</td>\n",
       "      <td>False</td>\n",
       "    </tr>\n",
       "  </tbody>\n",
       "</table>\n",
       "</div>"
      ],
      "text/plain": [
       "   #                   Name Type 1  Type 2  Total  HP  Attack  Defense  \\\n",
       "0  1              Bulbasaur  Grass  Poison    318  45      49       49   \n",
       "1  2                Ivysaur  Grass  Poison    405  60      62       63   \n",
       "2  3               Venusaur  Grass  Poison    525  80      82       83   \n",
       "3  3  VenusaurMega Venusaur  Grass  Poison    625  80     100      123   \n",
       "4  4             Charmander   Fire     NaN    309  39      52       43   \n",
       "\n",
       "   Sp. Atk  Sp. Def  Speed  Generation  Legendary  \n",
       "0       65       65     45           1      False  \n",
       "1       80       80     60           1      False  \n",
       "2      100      100     80           1      False  \n",
       "3      122      120     80           1      False  \n",
       "4       60       50     65           1      False  "
      ]
     },
     "execution_count": 4,
     "metadata": {},
     "output_type": "execute_result"
    }
   ],
   "source": [
    "# Your code here:\n",
    "pokemon.head()"
   ]
  },
  {
   "cell_type": "markdown",
   "metadata": {},
   "source": [
    "The first thing we would like to do is compare the legendary Pokemon to the regular Pokemon. To do this, we should examine the data further. What is the count of legendary vs. non legendary Pokemons?"
   ]
  },
  {
   "cell_type": "code",
   "execution_count": 5,
   "metadata": {},
   "outputs": [
    {
     "data": {
      "text/plain": [
       "False    735\n",
       "True      65\n",
       "Name: Legendary, dtype: int64"
      ]
     },
     "execution_count": 5,
     "metadata": {},
     "output_type": "execute_result"
    }
   ],
   "source": [
    "# Your code here:\n",
    "pokemon['Legendary'].value_counts()"
   ]
  },
  {
   "cell_type": "markdown",
   "metadata": {},
   "source": [
    "Compute the mean and standard deviation of the total points for both legendary and non-legendary Pokemon."
   ]
  },
  {
   "cell_type": "code",
   "execution_count": 6,
   "metadata": {},
   "outputs": [
    {
     "data": {
      "text/html": [
       "<div>\n",
       "<style scoped>\n",
       "    .dataframe tbody tr th:only-of-type {\n",
       "        vertical-align: middle;\n",
       "    }\n",
       "\n",
       "    .dataframe tbody tr th {\n",
       "        vertical-align: top;\n",
       "    }\n",
       "\n",
       "    .dataframe thead th {\n",
       "        text-align: right;\n",
       "    }\n",
       "</style>\n",
       "<table border=\"1\" class=\"dataframe\">\n",
       "  <thead>\n",
       "    <tr style=\"text-align: right;\">\n",
       "      <th></th>\n",
       "      <th>mean</th>\n",
       "      <th>std</th>\n",
       "    </tr>\n",
       "    <tr>\n",
       "      <th>Legendary</th>\n",
       "      <th></th>\n",
       "      <th></th>\n",
       "    </tr>\n",
       "  </thead>\n",
       "  <tbody>\n",
       "    <tr>\n",
       "      <th>False</th>\n",
       "      <td>417.213605</td>\n",
       "      <td>106.760417</td>\n",
       "    </tr>\n",
       "    <tr>\n",
       "      <th>True</th>\n",
       "      <td>637.384615</td>\n",
       "      <td>60.937389</td>\n",
       "    </tr>\n",
       "  </tbody>\n",
       "</table>\n",
       "</div>"
      ],
      "text/plain": [
       "                 mean         std\n",
       "Legendary                        \n",
       "False      417.213605  106.760417\n",
       "True       637.384615   60.937389"
      ]
     },
     "execution_count": 6,
     "metadata": {},
     "output_type": "execute_result"
    }
   ],
   "source": [
    "# Your code here:\n",
    "pokemon.groupby('Legendary')['Total'].agg([np.mean, np.std])"
   ]
  },
  {
   "cell_type": "markdown",
   "metadata": {},
   "source": [
    "The computation of the mean might give us a clue regarding how the statistical test may turn out; However, it certainly does not prove whether there is a significant difference between the two groups.\n",
    "\n",
    "In the cell below, use the `ttest_ind` function in `scipy.stats` to compare the the total points for legendary and non-legendary Pokemon. Since we do not have any information about the population, assume the variances are not equal."
   ]
  },
  {
   "cell_type": "code",
   "execution_count": 7,
   "metadata": {},
   "outputs": [
    {
     "data": {
      "text/plain": [
       "Ttest_indResult(statistic=25.8335743895517, pvalue=9.357954335957444e-47)"
      ]
     },
     "execution_count": 7,
     "metadata": {},
     "output_type": "execute_result"
    }
   ],
   "source": [
    "# Your code here:\n",
    "ttest_ind(pokemon.Total[pokemon['Legendary'] == True], pokemon.Total[pokemon['Legendary'] == False], equal_var=False)"
   ]
  },
  {
   "cell_type": "markdown",
   "metadata": {},
   "source": [
    "What do you conclude from this test? Write your conclusions below."
   ]
  },
  {
   "cell_type": "code",
   "execution_count": 8,
   "metadata": {},
   "outputs": [
    {
     "name": "stdout",
     "output_type": "stream",
     "text": [
      "With the results above we can easilly reject the null hypotesis\n"
     ]
    }
   ],
   "source": [
    "# Your conclusions here:\n",
    "# H0 - No Difference\n",
    "# H1 - Difference\n",
    "print(\"With the results above we can easilly reject the null hypotesis\")"
   ]
  },
  {
   "cell_type": "markdown",
   "metadata": {},
   "source": [
    "How about we try to compare the different types of pokemon? In the cell below, list the types of Pokemon from column `Type 1` and the count of each type."
   ]
  },
  {
   "cell_type": "code",
   "execution_count": 9,
   "metadata": {},
   "outputs": [
    {
     "data": {
      "text/plain": [
       "Water       112\n",
       "Normal       98\n",
       "Grass        70\n",
       "Bug          69\n",
       "Psychic      57\n",
       "Fire         52\n",
       "Rock         44\n",
       "Electric     44\n",
       "Ghost        32\n",
       "Dragon       32\n",
       "Ground       32\n",
       "Dark         31\n",
       "Poison       28\n",
       "Steel        27\n",
       "Fighting     27\n",
       "Ice          24\n",
       "Fairy        17\n",
       "Flying        4\n",
       "Name: Type 1, dtype: int64"
      ]
     },
     "execution_count": 9,
     "metadata": {},
     "output_type": "execute_result"
    }
   ],
   "source": [
    "# Your code here:\n",
    "type_1 = pokemon['Type 1'].value_counts()\n",
    "type_1"
   ]
  },
  {
   "cell_type": "markdown",
   "metadata": {},
   "source": [
    "Since water is the largest group of Pokemon, compare the mean and standard deviation of water Pokemon to all other Pokemon."
   ]
  },
  {
   "cell_type": "code",
   "execution_count": 10,
   "metadata": {},
   "outputs": [
    {
     "data": {
      "text/html": [
       "<div>\n",
       "<style scoped>\n",
       "    .dataframe tbody tr th:only-of-type {\n",
       "        vertical-align: middle;\n",
       "    }\n",
       "\n",
       "    .dataframe tbody tr th {\n",
       "        vertical-align: top;\n",
       "    }\n",
       "\n",
       "    .dataframe thead tr th {\n",
       "        text-align: left;\n",
       "    }\n",
       "\n",
       "    .dataframe thead tr:last-of-type th {\n",
       "        text-align: right;\n",
       "    }\n",
       "</style>\n",
       "<table border=\"1\" class=\"dataframe\">\n",
       "  <thead>\n",
       "    <tr>\n",
       "      <th></th>\n",
       "      <th colspan=\"2\" halign=\"left\">#</th>\n",
       "      <th colspan=\"2\" halign=\"left\">Total</th>\n",
       "      <th colspan=\"2\" halign=\"left\">HP</th>\n",
       "      <th colspan=\"2\" halign=\"left\">Attack</th>\n",
       "      <th colspan=\"2\" halign=\"left\">Defense</th>\n",
       "      <th colspan=\"2\" halign=\"left\">Sp. Atk</th>\n",
       "      <th colspan=\"2\" halign=\"left\">Sp. Def</th>\n",
       "      <th colspan=\"2\" halign=\"left\">Speed</th>\n",
       "      <th colspan=\"2\" halign=\"left\">Generation</th>\n",
       "      <th colspan=\"2\" halign=\"left\">Legendary</th>\n",
       "    </tr>\n",
       "    <tr>\n",
       "      <th></th>\n",
       "      <th>mean</th>\n",
       "      <th>std</th>\n",
       "      <th>mean</th>\n",
       "      <th>std</th>\n",
       "      <th>mean</th>\n",
       "      <th>std</th>\n",
       "      <th>mean</th>\n",
       "      <th>std</th>\n",
       "      <th>mean</th>\n",
       "      <th>std</th>\n",
       "      <th>mean</th>\n",
       "      <th>std</th>\n",
       "      <th>mean</th>\n",
       "      <th>std</th>\n",
       "      <th>mean</th>\n",
       "      <th>std</th>\n",
       "      <th>mean</th>\n",
       "      <th>std</th>\n",
       "      <th>mean</th>\n",
       "      <th>std</th>\n",
       "    </tr>\n",
       "    <tr>\n",
       "      <th>Type 1</th>\n",
       "      <th></th>\n",
       "      <th></th>\n",
       "      <th></th>\n",
       "      <th></th>\n",
       "      <th></th>\n",
       "      <th></th>\n",
       "      <th></th>\n",
       "      <th></th>\n",
       "      <th></th>\n",
       "      <th></th>\n",
       "      <th></th>\n",
       "      <th></th>\n",
       "      <th></th>\n",
       "      <th></th>\n",
       "      <th></th>\n",
       "      <th></th>\n",
       "      <th></th>\n",
       "      <th></th>\n",
       "      <th></th>\n",
       "      <th></th>\n",
       "    </tr>\n",
       "  </thead>\n",
       "  <tbody>\n",
       "    <tr>\n",
       "      <th>Bug</th>\n",
       "      <td>334.492754</td>\n",
       "      <td>210.445160</td>\n",
       "      <td>378.927536</td>\n",
       "      <td>117.875223</td>\n",
       "      <td>56.884058</td>\n",
       "      <td>16.328914</td>\n",
       "      <td>70.971014</td>\n",
       "      <td>37.040904</td>\n",
       "      <td>70.724638</td>\n",
       "      <td>33.617609</td>\n",
       "      <td>53.869565</td>\n",
       "      <td>26.697055</td>\n",
       "      <td>64.797101</td>\n",
       "      <td>32.126395</td>\n",
       "      <td>61.681159</td>\n",
       "      <td>33.227599</td>\n",
       "      <td>3.217391</td>\n",
       "      <td>1.598433</td>\n",
       "      <td>0.000000</td>\n",
       "      <td>0.000000</td>\n",
       "    </tr>\n",
       "    <tr>\n",
       "      <th>Dark</th>\n",
       "      <td>461.354839</td>\n",
       "      <td>176.022072</td>\n",
       "      <td>445.741935</td>\n",
       "      <td>109.126217</td>\n",
       "      <td>66.806452</td>\n",
       "      <td>21.078297</td>\n",
       "      <td>88.387097</td>\n",
       "      <td>25.774247</td>\n",
       "      <td>70.225806</td>\n",
       "      <td>25.121982</td>\n",
       "      <td>74.645161</td>\n",
       "      <td>33.200952</td>\n",
       "      <td>69.516129</td>\n",
       "      <td>24.799020</td>\n",
       "      <td>76.161290</td>\n",
       "      <td>27.768203</td>\n",
       "      <td>4.032258</td>\n",
       "      <td>1.353609</td>\n",
       "      <td>0.064516</td>\n",
       "      <td>0.249731</td>\n",
       "    </tr>\n",
       "    <tr>\n",
       "      <th>Dragon</th>\n",
       "      <td>474.375000</td>\n",
       "      <td>170.190169</td>\n",
       "      <td>550.531250</td>\n",
       "      <td>146.267538</td>\n",
       "      <td>83.312500</td>\n",
       "      <td>23.795415</td>\n",
       "      <td>112.125000</td>\n",
       "      <td>33.742622</td>\n",
       "      <td>86.375000</td>\n",
       "      <td>24.102938</td>\n",
       "      <td>96.843750</td>\n",
       "      <td>42.257360</td>\n",
       "      <td>88.843750</td>\n",
       "      <td>29.884843</td>\n",
       "      <td>83.031250</td>\n",
       "      <td>23.239961</td>\n",
       "      <td>3.875000</td>\n",
       "      <td>1.431219</td>\n",
       "      <td>0.375000</td>\n",
       "      <td>0.491869</td>\n",
       "    </tr>\n",
       "    <tr>\n",
       "      <th>Electric</th>\n",
       "      <td>363.500000</td>\n",
       "      <td>202.731063</td>\n",
       "      <td>443.409091</td>\n",
       "      <td>105.721952</td>\n",
       "      <td>59.795455</td>\n",
       "      <td>17.306511</td>\n",
       "      <td>69.090909</td>\n",
       "      <td>23.764169</td>\n",
       "      <td>66.295455</td>\n",
       "      <td>24.757033</td>\n",
       "      <td>90.022727</td>\n",
       "      <td>29.740340</td>\n",
       "      <td>73.704545</td>\n",
       "      <td>22.601275</td>\n",
       "      <td>84.500000</td>\n",
       "      <td>26.691607</td>\n",
       "      <td>3.272727</td>\n",
       "      <td>1.604697</td>\n",
       "      <td>0.090909</td>\n",
       "      <td>0.290803</td>\n",
       "    </tr>\n",
       "    <tr>\n",
       "      <th>Fairy</th>\n",
       "      <td>449.529412</td>\n",
       "      <td>271.983942</td>\n",
       "      <td>413.176471</td>\n",
       "      <td>123.781680</td>\n",
       "      <td>74.117647</td>\n",
       "      <td>23.587291</td>\n",
       "      <td>61.529412</td>\n",
       "      <td>29.751298</td>\n",
       "      <td>65.705882</td>\n",
       "      <td>18.979478</td>\n",
       "      <td>78.529412</td>\n",
       "      <td>28.548462</td>\n",
       "      <td>84.705882</td>\n",
       "      <td>29.721130</td>\n",
       "      <td>48.588235</td>\n",
       "      <td>23.305200</td>\n",
       "      <td>4.117647</td>\n",
       "      <td>2.147160</td>\n",
       "      <td>0.058824</td>\n",
       "      <td>0.242536</td>\n",
       "    </tr>\n",
       "    <tr>\n",
       "      <th>Fighting</th>\n",
       "      <td>363.851852</td>\n",
       "      <td>218.565200</td>\n",
       "      <td>416.444444</td>\n",
       "      <td>102.464378</td>\n",
       "      <td>69.851852</td>\n",
       "      <td>25.852695</td>\n",
       "      <td>96.777778</td>\n",
       "      <td>28.290163</td>\n",
       "      <td>65.925926</td>\n",
       "      <td>18.578163</td>\n",
       "      <td>53.111111</td>\n",
       "      <td>28.159345</td>\n",
       "      <td>64.703704</td>\n",
       "      <td>22.745777</td>\n",
       "      <td>66.074074</td>\n",
       "      <td>26.054567</td>\n",
       "      <td>3.370370</td>\n",
       "      <td>1.800601</td>\n",
       "      <td>0.000000</td>\n",
       "      <td>0.000000</td>\n",
       "    </tr>\n",
       "    <tr>\n",
       "      <th>Fire</th>\n",
       "      <td>327.403846</td>\n",
       "      <td>226.262840</td>\n",
       "      <td>458.076923</td>\n",
       "      <td>109.760496</td>\n",
       "      <td>69.903846</td>\n",
       "      <td>19.404123</td>\n",
       "      <td>84.769231</td>\n",
       "      <td>28.769275</td>\n",
       "      <td>67.769231</td>\n",
       "      <td>23.658200</td>\n",
       "      <td>88.980769</td>\n",
       "      <td>30.042121</td>\n",
       "      <td>72.211538</td>\n",
       "      <td>22.619908</td>\n",
       "      <td>74.442308</td>\n",
       "      <td>25.245783</td>\n",
       "      <td>3.211538</td>\n",
       "      <td>1.850665</td>\n",
       "      <td>0.096154</td>\n",
       "      <td>0.297678</td>\n",
       "    </tr>\n",
       "    <tr>\n",
       "      <th>Flying</th>\n",
       "      <td>677.750000</td>\n",
       "      <td>42.437209</td>\n",
       "      <td>485.000000</td>\n",
       "      <td>161.400124</td>\n",
       "      <td>70.750000</td>\n",
       "      <td>20.694202</td>\n",
       "      <td>78.750000</td>\n",
       "      <td>37.500000</td>\n",
       "      <td>66.250000</td>\n",
       "      <td>21.360009</td>\n",
       "      <td>94.250000</td>\n",
       "      <td>34.769479</td>\n",
       "      <td>72.500000</td>\n",
       "      <td>22.173558</td>\n",
       "      <td>102.500000</td>\n",
       "      <td>32.098806</td>\n",
       "      <td>5.500000</td>\n",
       "      <td>0.577350</td>\n",
       "      <td>0.500000</td>\n",
       "      <td>0.577350</td>\n",
       "    </tr>\n",
       "    <tr>\n",
       "      <th>Ghost</th>\n",
       "      <td>486.500000</td>\n",
       "      <td>209.189218</td>\n",
       "      <td>439.562500</td>\n",
       "      <td>110.072685</td>\n",
       "      <td>64.437500</td>\n",
       "      <td>31.685895</td>\n",
       "      <td>73.781250</td>\n",
       "      <td>29.629687</td>\n",
       "      <td>81.187500</td>\n",
       "      <td>32.551138</td>\n",
       "      <td>79.343750</td>\n",
       "      <td>32.561217</td>\n",
       "      <td>76.468750</td>\n",
       "      <td>26.038414</td>\n",
       "      <td>64.343750</td>\n",
       "      <td>28.020280</td>\n",
       "      <td>4.187500</td>\n",
       "      <td>1.693203</td>\n",
       "      <td>0.062500</td>\n",
       "      <td>0.245935</td>\n",
       "    </tr>\n",
       "    <tr>\n",
       "      <th>Grass</th>\n",
       "      <td>344.871429</td>\n",
       "      <td>200.264385</td>\n",
       "      <td>421.142857</td>\n",
       "      <td>106.650626</td>\n",
       "      <td>67.271429</td>\n",
       "      <td>19.516564</td>\n",
       "      <td>73.214286</td>\n",
       "      <td>25.380520</td>\n",
       "      <td>70.800000</td>\n",
       "      <td>24.485192</td>\n",
       "      <td>77.500000</td>\n",
       "      <td>27.244864</td>\n",
       "      <td>70.428571</td>\n",
       "      <td>21.446645</td>\n",
       "      <td>61.928571</td>\n",
       "      <td>28.506456</td>\n",
       "      <td>3.357143</td>\n",
       "      <td>1.579173</td>\n",
       "      <td>0.042857</td>\n",
       "      <td>0.203997</td>\n",
       "    </tr>\n",
       "    <tr>\n",
       "      <th>Ground</th>\n",
       "      <td>356.281250</td>\n",
       "      <td>204.899855</td>\n",
       "      <td>437.500000</td>\n",
       "      <td>123.913081</td>\n",
       "      <td>73.781250</td>\n",
       "      <td>25.662492</td>\n",
       "      <td>95.750000</td>\n",
       "      <td>33.059087</td>\n",
       "      <td>84.843750</td>\n",
       "      <td>33.786912</td>\n",
       "      <td>56.468750</td>\n",
       "      <td>28.135598</td>\n",
       "      <td>62.750000</td>\n",
       "      <td>21.267877</td>\n",
       "      <td>63.906250</td>\n",
       "      <td>27.450083</td>\n",
       "      <td>3.156250</td>\n",
       "      <td>1.588454</td>\n",
       "      <td>0.125000</td>\n",
       "      <td>0.336011</td>\n",
       "    </tr>\n",
       "    <tr>\n",
       "      <th>Ice</th>\n",
       "      <td>423.541667</td>\n",
       "      <td>175.465834</td>\n",
       "      <td>433.458333</td>\n",
       "      <td>108.281027</td>\n",
       "      <td>72.000000</td>\n",
       "      <td>21.286861</td>\n",
       "      <td>72.750000</td>\n",
       "      <td>27.289511</td>\n",
       "      <td>71.416667</td>\n",
       "      <td>34.387708</td>\n",
       "      <td>77.541667</td>\n",
       "      <td>26.604967</td>\n",
       "      <td>76.291667</td>\n",
       "      <td>37.213227</td>\n",
       "      <td>63.458333</td>\n",
       "      <td>24.498410</td>\n",
       "      <td>3.541667</td>\n",
       "      <td>1.473805</td>\n",
       "      <td>0.083333</td>\n",
       "      <td>0.282330</td>\n",
       "    </tr>\n",
       "    <tr>\n",
       "      <th>Normal</th>\n",
       "      <td>319.173469</td>\n",
       "      <td>193.854820</td>\n",
       "      <td>401.683673</td>\n",
       "      <td>115.733038</td>\n",
       "      <td>77.275510</td>\n",
       "      <td>36.233430</td>\n",
       "      <td>73.469388</td>\n",
       "      <td>30.295862</td>\n",
       "      <td>59.846939</td>\n",
       "      <td>23.771833</td>\n",
       "      <td>55.816327</td>\n",
       "      <td>23.946395</td>\n",
       "      <td>63.724490</td>\n",
       "      <td>25.142801</td>\n",
       "      <td>71.551020</td>\n",
       "      <td>28.406157</td>\n",
       "      <td>3.051020</td>\n",
       "      <td>1.575407</td>\n",
       "      <td>0.020408</td>\n",
       "      <td>0.142119</td>\n",
       "    </tr>\n",
       "    <tr>\n",
       "      <th>Poison</th>\n",
       "      <td>251.785714</td>\n",
       "      <td>228.801767</td>\n",
       "      <td>399.142857</td>\n",
       "      <td>92.358687</td>\n",
       "      <td>67.250000</td>\n",
       "      <td>19.665019</td>\n",
       "      <td>74.678571</td>\n",
       "      <td>19.630010</td>\n",
       "      <td>68.821429</td>\n",
       "      <td>21.066128</td>\n",
       "      <td>60.428571</td>\n",
       "      <td>19.322657</td>\n",
       "      <td>64.392857</td>\n",
       "      <td>19.887348</td>\n",
       "      <td>63.571429</td>\n",
       "      <td>22.631392</td>\n",
       "      <td>2.535714</td>\n",
       "      <td>1.752927</td>\n",
       "      <td>0.000000</td>\n",
       "      <td>0.000000</td>\n",
       "    </tr>\n",
       "    <tr>\n",
       "      <th>Psychic</th>\n",
       "      <td>380.807018</td>\n",
       "      <td>194.600455</td>\n",
       "      <td>475.947368</td>\n",
       "      <td>139.026645</td>\n",
       "      <td>70.631579</td>\n",
       "      <td>28.421340</td>\n",
       "      <td>71.456140</td>\n",
       "      <td>42.309265</td>\n",
       "      <td>67.684211</td>\n",
       "      <td>28.359401</td>\n",
       "      <td>98.403509</td>\n",
       "      <td>38.539340</td>\n",
       "      <td>86.280702</td>\n",
       "      <td>31.126329</td>\n",
       "      <td>81.491228</td>\n",
       "      <td>37.335412</td>\n",
       "      <td>3.385965</td>\n",
       "      <td>1.644845</td>\n",
       "      <td>0.245614</td>\n",
       "      <td>0.434277</td>\n",
       "    </tr>\n",
       "    <tr>\n",
       "      <th>Rock</th>\n",
       "      <td>392.727273</td>\n",
       "      <td>213.746140</td>\n",
       "      <td>453.750000</td>\n",
       "      <td>108.059227</td>\n",
       "      <td>65.363636</td>\n",
       "      <td>20.833884</td>\n",
       "      <td>92.863636</td>\n",
       "      <td>35.325458</td>\n",
       "      <td>100.795455</td>\n",
       "      <td>36.447209</td>\n",
       "      <td>63.340909</td>\n",
       "      <td>28.249670</td>\n",
       "      <td>75.477273</td>\n",
       "      <td>32.265965</td>\n",
       "      <td>55.909091</td>\n",
       "      <td>29.903580</td>\n",
       "      <td>3.454545</td>\n",
       "      <td>1.848375</td>\n",
       "      <td>0.090909</td>\n",
       "      <td>0.290803</td>\n",
       "    </tr>\n",
       "    <tr>\n",
       "      <th>Steel</th>\n",
       "      <td>442.851852</td>\n",
       "      <td>164.847180</td>\n",
       "      <td>487.703704</td>\n",
       "      <td>115.420907</td>\n",
       "      <td>65.222222</td>\n",
       "      <td>16.044010</td>\n",
       "      <td>92.703704</td>\n",
       "      <td>30.388276</td>\n",
       "      <td>126.370370</td>\n",
       "      <td>44.806548</td>\n",
       "      <td>67.518519</td>\n",
       "      <td>31.458606</td>\n",
       "      <td>80.629630</td>\n",
       "      <td>29.018758</td>\n",
       "      <td>55.259259</td>\n",
       "      <td>25.846578</td>\n",
       "      <td>3.851852</td>\n",
       "      <td>1.350319</td>\n",
       "      <td>0.148148</td>\n",
       "      <td>0.362014</td>\n",
       "    </tr>\n",
       "    <tr>\n",
       "      <th>Water</th>\n",
       "      <td>303.089286</td>\n",
       "      <td>188.440807</td>\n",
       "      <td>430.455357</td>\n",
       "      <td>113.188266</td>\n",
       "      <td>72.062500</td>\n",
       "      <td>27.487026</td>\n",
       "      <td>74.151786</td>\n",
       "      <td>28.377192</td>\n",
       "      <td>72.946429</td>\n",
       "      <td>27.773809</td>\n",
       "      <td>74.812500</td>\n",
       "      <td>29.030128</td>\n",
       "      <td>70.517857</td>\n",
       "      <td>28.460493</td>\n",
       "      <td>65.964286</td>\n",
       "      <td>23.019353</td>\n",
       "      <td>2.857143</td>\n",
       "      <td>1.558800</td>\n",
       "      <td>0.035714</td>\n",
       "      <td>0.186411</td>\n",
       "    </tr>\n",
       "  </tbody>\n",
       "</table>\n",
       "</div>"
      ],
      "text/plain": [
       "                   #                   Total                     HP  \\\n",
       "                mean         std        mean         std       mean   \n",
       "Type 1                                                                \n",
       "Bug       334.492754  210.445160  378.927536  117.875223  56.884058   \n",
       "Dark      461.354839  176.022072  445.741935  109.126217  66.806452   \n",
       "Dragon    474.375000  170.190169  550.531250  146.267538  83.312500   \n",
       "Electric  363.500000  202.731063  443.409091  105.721952  59.795455   \n",
       "Fairy     449.529412  271.983942  413.176471  123.781680  74.117647   \n",
       "Fighting  363.851852  218.565200  416.444444  102.464378  69.851852   \n",
       "Fire      327.403846  226.262840  458.076923  109.760496  69.903846   \n",
       "Flying    677.750000   42.437209  485.000000  161.400124  70.750000   \n",
       "Ghost     486.500000  209.189218  439.562500  110.072685  64.437500   \n",
       "Grass     344.871429  200.264385  421.142857  106.650626  67.271429   \n",
       "Ground    356.281250  204.899855  437.500000  123.913081  73.781250   \n",
       "Ice       423.541667  175.465834  433.458333  108.281027  72.000000   \n",
       "Normal    319.173469  193.854820  401.683673  115.733038  77.275510   \n",
       "Poison    251.785714  228.801767  399.142857   92.358687  67.250000   \n",
       "Psychic   380.807018  194.600455  475.947368  139.026645  70.631579   \n",
       "Rock      392.727273  213.746140  453.750000  108.059227  65.363636   \n",
       "Steel     442.851852  164.847180  487.703704  115.420907  65.222222   \n",
       "Water     303.089286  188.440807  430.455357  113.188266  72.062500   \n",
       "\n",
       "                         Attack                Defense               Sp. Atk  \\\n",
       "                std        mean        std        mean        std       mean   \n",
       "Type 1                                                                         \n",
       "Bug       16.328914   70.971014  37.040904   70.724638  33.617609  53.869565   \n",
       "Dark      21.078297   88.387097  25.774247   70.225806  25.121982  74.645161   \n",
       "Dragon    23.795415  112.125000  33.742622   86.375000  24.102938  96.843750   \n",
       "Electric  17.306511   69.090909  23.764169   66.295455  24.757033  90.022727   \n",
       "Fairy     23.587291   61.529412  29.751298   65.705882  18.979478  78.529412   \n",
       "Fighting  25.852695   96.777778  28.290163   65.925926  18.578163  53.111111   \n",
       "Fire      19.404123   84.769231  28.769275   67.769231  23.658200  88.980769   \n",
       "Flying    20.694202   78.750000  37.500000   66.250000  21.360009  94.250000   \n",
       "Ghost     31.685895   73.781250  29.629687   81.187500  32.551138  79.343750   \n",
       "Grass     19.516564   73.214286  25.380520   70.800000  24.485192  77.500000   \n",
       "Ground    25.662492   95.750000  33.059087   84.843750  33.786912  56.468750   \n",
       "Ice       21.286861   72.750000  27.289511   71.416667  34.387708  77.541667   \n",
       "Normal    36.233430   73.469388  30.295862   59.846939  23.771833  55.816327   \n",
       "Poison    19.665019   74.678571  19.630010   68.821429  21.066128  60.428571   \n",
       "Psychic   28.421340   71.456140  42.309265   67.684211  28.359401  98.403509   \n",
       "Rock      20.833884   92.863636  35.325458  100.795455  36.447209  63.340909   \n",
       "Steel     16.044010   92.703704  30.388276  126.370370  44.806548  67.518519   \n",
       "Water     27.487026   74.151786  28.377192   72.946429  27.773809  74.812500   \n",
       "\n",
       "                       Sp. Def                  Speed            Generation  \\\n",
       "                std       mean        std        mean        std       mean   \n",
       "Type 1                                                                        \n",
       "Bug       26.697055  64.797101  32.126395   61.681159  33.227599   3.217391   \n",
       "Dark      33.200952  69.516129  24.799020   76.161290  27.768203   4.032258   \n",
       "Dragon    42.257360  88.843750  29.884843   83.031250  23.239961   3.875000   \n",
       "Electric  29.740340  73.704545  22.601275   84.500000  26.691607   3.272727   \n",
       "Fairy     28.548462  84.705882  29.721130   48.588235  23.305200   4.117647   \n",
       "Fighting  28.159345  64.703704  22.745777   66.074074  26.054567   3.370370   \n",
       "Fire      30.042121  72.211538  22.619908   74.442308  25.245783   3.211538   \n",
       "Flying    34.769479  72.500000  22.173558  102.500000  32.098806   5.500000   \n",
       "Ghost     32.561217  76.468750  26.038414   64.343750  28.020280   4.187500   \n",
       "Grass     27.244864  70.428571  21.446645   61.928571  28.506456   3.357143   \n",
       "Ground    28.135598  62.750000  21.267877   63.906250  27.450083   3.156250   \n",
       "Ice       26.604967  76.291667  37.213227   63.458333  24.498410   3.541667   \n",
       "Normal    23.946395  63.724490  25.142801   71.551020  28.406157   3.051020   \n",
       "Poison    19.322657  64.392857  19.887348   63.571429  22.631392   2.535714   \n",
       "Psychic   38.539340  86.280702  31.126329   81.491228  37.335412   3.385965   \n",
       "Rock      28.249670  75.477273  32.265965   55.909091  29.903580   3.454545   \n",
       "Steel     31.458606  80.629630  29.018758   55.259259  25.846578   3.851852   \n",
       "Water     29.030128  70.517857  28.460493   65.964286  23.019353   2.857143   \n",
       "\n",
       "                   Legendary            \n",
       "               std      mean       std  \n",
       "Type 1                                  \n",
       "Bug       1.598433  0.000000  0.000000  \n",
       "Dark      1.353609  0.064516  0.249731  \n",
       "Dragon    1.431219  0.375000  0.491869  \n",
       "Electric  1.604697  0.090909  0.290803  \n",
       "Fairy     2.147160  0.058824  0.242536  \n",
       "Fighting  1.800601  0.000000  0.000000  \n",
       "Fire      1.850665  0.096154  0.297678  \n",
       "Flying    0.577350  0.500000  0.577350  \n",
       "Ghost     1.693203  0.062500  0.245935  \n",
       "Grass     1.579173  0.042857  0.203997  \n",
       "Ground    1.588454  0.125000  0.336011  \n",
       "Ice       1.473805  0.083333  0.282330  \n",
       "Normal    1.575407  0.020408  0.142119  \n",
       "Poison    1.752927  0.000000  0.000000  \n",
       "Psychic   1.644845  0.245614  0.434277  \n",
       "Rock      1.848375  0.090909  0.290803  \n",
       "Steel     1.350319  0.148148  0.362014  \n",
       "Water     1.558800  0.035714  0.186411  "
      ]
     },
     "execution_count": 10,
     "metadata": {},
     "output_type": "execute_result"
    }
   ],
   "source": [
    "# Your code here:\n",
    "type_group = pokemon.groupby('Type 1').agg([np.mean, np.std])\n",
    "type_group"
   ]
  },
  {
   "cell_type": "markdown",
   "metadata": {},
   "source": [
    "Perform a hypothesis test comparing the mean of total points for water Pokemon to all non-water Pokemon. Assume the variances are equal. "
   ]
  },
  {
   "cell_type": "code",
   "execution_count": 11,
   "metadata": {},
   "outputs": [
    {
     "data": {
      "text/plain": [
       "Ttest_indResult(statistic=-0.4418547448849676, pvalue=0.6587140317488793)"
      ]
     },
     "execution_count": 11,
     "metadata": {},
     "output_type": "execute_result"
    }
   ],
   "source": [
    "# Your code here:\n",
    "ttest_ind(pokemon.Total[pokemon['Type 1'] == 'Water'], pokemon.Total[pokemon['Type 1'] != 'Water'], equal_var=True)"
   ]
  },
  {
   "cell_type": "markdown",
   "metadata": {},
   "source": [
    "Write your conclusion below."
   ]
  },
  {
   "cell_type": "code",
   "execution_count": 12,
   "metadata": {},
   "outputs": [
    {
     "name": "stdout",
     "output_type": "stream",
     "text": [
      "P Value is quite high so the null hypotesis is not rejected\n"
     ]
    }
   ],
   "source": [
    "# Your conclusions here:\n",
    "print(\"P Value is quite high so the null hypotesis is not rejected\")"
   ]
  },
  {
   "cell_type": "markdown",
   "metadata": {},
   "source": [
    "# Challenge 2 - Matched Pairs Test\n",
    "\n",
    "In this challenge we will compare dependent samples of data describing our Pokemon. Our goal is to see whether there is a significant difference between each Pokemon's defense and attack scores. Our hypothesis is that the defense and attack scores are equal. In the cell below, import the `ttest_rel` function from `scipy.stats` and compare the two columns to see if there is a statistically significant difference between them."
   ]
  },
  {
   "cell_type": "code",
   "execution_count": 13,
   "metadata": {},
   "outputs": [
    {
     "data": {
      "text/plain": [
       "Ttest_relResult(statistic=4.325566393330478, pvalue=1.7140303479358558e-05)"
      ]
     },
     "execution_count": 13,
     "metadata": {},
     "output_type": "execute_result"
    }
   ],
   "source": [
    "# Your code here:\n",
    "# H0 = No difference between Attack and Defense\n",
    "# H1 = Siginificatn difference between Attack and Defense\n",
    "from scipy.stats import ttest_rel\n",
    "ttest_rel(pokemon['Attack'], pokemon['Defense'])"
   ]
  },
  {
   "cell_type": "markdown",
   "metadata": {},
   "source": [
    "Describe the results of the test in the cell below."
   ]
  },
  {
   "cell_type": "code",
   "execution_count": 14,
   "metadata": {},
   "outputs": [
    {
     "name": "stdout",
     "output_type": "stream",
     "text": [
      "P Value is quite low so we reject the null hypothesis. Meaning that there is a significant difference between Attack and Defense\n"
     ]
    }
   ],
   "source": [
    "# Your conclusions here:\n",
    "print(\"P Value is quite low so we reject the null hypothesis. Meaning that there is a significant difference between Attack and Defense\")"
   ]
  },
  {
   "cell_type": "markdown",
   "metadata": {},
   "source": [
    "We are also curious about whether therer is a significant difference between the mean of special defense and the mean of special attack. Perform the hypothesis test in the cell below. "
   ]
  },
  {
   "cell_type": "code",
   "execution_count": 15,
   "metadata": {},
   "outputs": [
    {
     "data": {
      "text/plain": [
       "Ttest_relResult(statistic=0.853986188453353, pvalue=0.3933685997548122)"
      ]
     },
     "execution_count": 15,
     "metadata": {},
     "output_type": "execute_result"
    }
   ],
   "source": [
    "# Your code here:\n",
    "# H0 - No Difference\n",
    "# H1 - Difference\n",
    "ttest_rel(pokemon['Sp. Atk'], pokemon['Sp. Def'])"
   ]
  },
  {
   "cell_type": "markdown",
   "metadata": {},
   "source": [
    "Describe the results of the test in the cell below."
   ]
  },
  {
   "cell_type": "code",
   "execution_count": 16,
   "metadata": {},
   "outputs": [
    {
     "name": "stdout",
     "output_type": "stream",
     "text": [
      "Since p value is quite high we reject the null hypotesis\n"
     ]
    }
   ],
   "source": [
    "# Your conclusions here:\n",
    "print('Since p value is quite high we reject the null hypotesis')"
   ]
  },
  {
   "cell_type": "markdown",
   "metadata": {},
   "source": [
    "As you may recall, a two sample matched pairs test can also be expressed as a one sample test of the difference between the two dependent columns.\n",
    "\n",
    "Import the `ttest_1samp` function and perform a one sample t-test of the difference between defense and attack. Test the hypothesis that the difference between the means is zero. Confirm that the results of the test are the same."
   ]
  },
  {
   "cell_type": "code",
   "execution_count": 17,
   "metadata": {},
   "outputs": [
    {
     "name": "stdout",
     "output_type": "stream",
     "text": [
      "P Value is quite low ( 1.7140303479358558e-05 ) so we can reject the null hypoteses.\n",
      "We can confirm the presented hypoteses by calculating the difference of the means, which is: -361.26\n"
     ]
    }
   ],
   "source": [
    "# Your code here:\n",
    "# H0 - Difference between the means is not 0\n",
    "# H1 - Difference between the means is 0 \n",
    "from scipy.stats import ttest_1samp\n",
    "stats,p = ttest_1samp(pokemon['Attack'] - pokemon['Defense'], 0)\n",
    "print(\"P Value is quite low (\",p,\") so we can reject the null hypoteses.\")\n",
    "pokemon['Difference'] = pokemon['Defense'] - pokemon['Attack']\n",
    "mean_difference = pokemon['Defense'].mean() - pokemon['Total'].mean()\n",
    "print(\"We can confirm the presented hypoteses by calculating the difference of the means, which is:\",mean_difference)"
   ]
  },
  {
   "cell_type": "markdown",
   "metadata": {},
   "source": [
    "# Bonus Challenge - The Chi-Square Test\n",
    "\n",
    "The Chi-Square test is used to determine whether there is a statistically significant difference in frequencies. In other words, we are testing whether there is a relationship between categorical variables or rather when the variables are independent. This test is an alternative to Fisher's exact test and is used in scenarios where sample sizes are larger. However, with a large enough sample size, both tests produce similar results. Read more about the Chi Squared test [here](https://en.wikipedia.org/wiki/Chi-squared_test).\n",
    "\n",
    "In the cell below, create a contingency table using `pd.crosstab` comparing whether a Pokemon is legenadary or not and whether the Type 1 of a Pokemon is water or not."
   ]
  },
  {
   "cell_type": "code",
   "execution_count": null,
   "metadata": {},
   "outputs": [],
   "source": [
    "# Your code here:\n",
    "\n"
   ]
  },
  {
   "cell_type": "markdown",
   "metadata": {},
   "source": [
    "Perform a chi-squared test using the `chi2_contingency` function in `scipy.stats`. You can read the documentation of the function [here](https://docs.scipy.org/doc/scipy-0.15.1/reference/generated/scipy.stats.chi2_contingency.html)."
   ]
  },
  {
   "cell_type": "code",
   "execution_count": null,
   "metadata": {},
   "outputs": [],
   "source": [
    "# Your code here:\n",
    "\n"
   ]
  },
  {
   "cell_type": "markdown",
   "metadata": {},
   "source": [
    "Based on a 95% confidence, should we reject the null hypothesis?"
   ]
  },
  {
   "cell_type": "code",
   "execution_count": null,
   "metadata": {},
   "outputs": [],
   "source": [
    "# Your answer here:\n",
    "\n"
   ]
  },
  {
   "cell_type": "code",
   "execution_count": null,
   "metadata": {},
   "outputs": [],
   "source": []
  }
 ],
 "metadata": {
  "kernelspec": {
   "display_name": "Python 3",
   "language": "python",
   "name": "python3"
  },
  "language_info": {
   "codemirror_mode": {
    "name": "ipython",
    "version": 3
   },
   "file_extension": ".py",
   "mimetype": "text/x-python",
   "name": "python",
   "nbconvert_exporter": "python",
   "pygments_lexer": "ipython3",
   "version": "3.8.2"
  }
 },
 "nbformat": 4,
 "nbformat_minor": 2
}
